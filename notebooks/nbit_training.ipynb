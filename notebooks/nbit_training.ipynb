{
 "cells": [
  {
   "cell_type": "markdown",
   "id": "gxqK-drF5LYK",
   "metadata": {
    "id": "gxqK-drF5LYK"
   },
   "source": [
    "## Boilerplate"
   ]
  },
  {
   "cell_type": "code",
   "execution_count": null,
   "id": "kFHJfX-hXlhF",
   "metadata": {
    "colab": {
     "base_uri": "https://localhost:8080/"
    },
    "id": "kFHJfX-hXlhF",
    "outputId": "e2c83c21-f45d-4946-8ec7-38d5bd054ca2"
   },
   "outputs": [
    {
     "name": "stdout",
     "output_type": "stream",
     "text": [
      "Running on Colab\n",
      "Mounted at /content/drive\n",
      "Root path: /content/don_thesis\n"
     ]
    }
   ],
   "source": [
    "import sys\n",
    "import subprocess\n",
    "import os\n",
    "\n",
    "if 'google.colab' in sys.modules:\n",
    "    print(\"Running on Colab\")\n",
    "\n",
    "    # Clone repo using subprocess to run shell command inside if block\n",
    "    subprocess.run([\n",
    "        #'git', 'clone', '--recurse-submodules',\n",
    "        'git', 'clone',\n",
    "        'https://github.com/walligot/don_thesis.git'\n",
    "    ])\n",
    "\n",
    "    # Change directory\n",
    "    os.chdir('/content/don_thesis')\n",
    "    subprocess.run(['pip', 'install', '-e', '.'])  # ensure package importable\n",
    "    #%pip install -e ./DSA\n",
    "   # %pip install git+https://github.com/ahwillia/netrep.git\n",
    "    #%pip install git+https://github.com/mitchellostrow/DSA.git\n",
    "\n",
    "    from google.colab import drive\n",
    "    drive.mount('/content/drive')\n",
    "\n",
    "    HOME = '/content/drive/MyDrive/Thesis'\n",
    "    os.environ['HOME'] = HOME\n",
    "    ROOT_PATH = '/content/don_thesis'\n",
    "    os.environ['ROOT_PATH'] = ROOT_PATH\n",
    "    DATA_PATH = '/content/drive/MyDrive/Thesis/data'\n",
    "    os.environ['DATA_PATH'] = DATA_PATH\n",
    "\n",
    "else:\n",
    "    #%pip install git+https://github.com/mitchellostrow/DSA.git\n",
    "\n",
    "    from pathlib import Path\n",
    "\n",
    "    current_path = Path().resolve()\n",
    "\n",
    "    ROOT_PATH = None\n",
    "    for parent in [current_path] + list(current_path.parents):\n",
    "        if \"don_thesis\" in parent.name.lower():\n",
    "            ROOT_PATH = str(parent)\n",
    "            DATA_PATH = str(parent)\n",
    "            HOME = str(parent)\n",
    "            os.environ['ROOT_PATH'] = ROOT_PATH\n",
    "            os.environ['DATA_PATH'] = DATA_PATH\n",
    "            os.environ['HOME'] = HOME\n",
    "            break\n",
    "\n",
    "    if not ROOT_PATH:\n",
    "        raise FileNotFoundError(\"Directory with name 'don_thesis' not found.\")\n",
    "\n",
    "    print(\"Running locally or elsewhere\")\n",
    "\n",
    "#%pip install gpjax\n",
    "\n",
    "print(f\"Root path: {ROOT_PATH}\")\n",
    "sys.path.append('/content/don_thesis/src')"
   ]
  },
  {
   "cell_type": "code",
   "execution_count": null,
   "id": "4b4a6240",
   "metadata": {},
   "outputs": [],
   "source": [
    "from nbit.training import eval_rnn, eval_rnn_multiple, load_rnn, plot_training_curves, randomise_rnn, save_rnn_model, train_rnn"
   ]
  },
  {
   "cell_type": "markdown",
   "id": "mXhK_WaJ3buV",
   "metadata": {
    "id": "mXhK_WaJ3buV"
   },
   "source": [
    "## Training"
   ]
  },
  {
   "cell_type": "code",
   "execution_count": null,
   "id": "TPfiKfOJ3d26",
   "metadata": {
    "colab": {
     "base_uri": "https://localhost:8080/"
    },
    "id": "TPfiKfOJ3d26",
    "outputId": "37c8fa41-f0ba-4c96-f456-12a6238c3337"
   },
   "outputs": [
    {
     "name": "stderr",
     "output_type": "stream",
     "text": [
      "  0%|          | 1/4000 [00:00<29:16,  2.28it/s]"
     ]
    },
    {
     "name": "stdout",
     "output_type": "stream",
     "text": [
      "Epoch    0 | TrainLoss 0.86139, TrainAcc 22.69% | EvalLoss 0.90504, EvalAcc 51.42%\n"
     ]
    },
    {
     "name": "stderr",
     "output_type": "stream",
     "text": [
      "  3%|▎         | 101/4000 [00:21<19:11,  3.39it/s]"
     ]
    },
    {
     "name": "stdout",
     "output_type": "stream",
     "text": [
      "Epoch  100 | TrainLoss 0.29475, TrainAcc 62.30% | EvalLoss 0.48801, EvalAcc 79.34%\n"
     ]
    },
    {
     "name": "stderr",
     "output_type": "stream",
     "text": [
      "  5%|▌         | 202/4000 [00:42<15:45,  4.02it/s]"
     ]
    },
    {
     "name": "stdout",
     "output_type": "stream",
     "text": [
      "Epoch  200 | TrainLoss 0.24798, TrainAcc 65.16% | EvalLoss 0.28650, EvalAcc 86.44%\n"
     ]
    },
    {
     "name": "stderr",
     "output_type": "stream",
     "text": [
      "  8%|▊         | 302/4000 [01:03<15:05,  4.09it/s]"
     ]
    },
    {
     "name": "stdout",
     "output_type": "stream",
     "text": [
      "Epoch  300 | TrainLoss 0.28782, TrainAcc 59.59% | EvalLoss 0.27238, EvalAcc 87.94%\n"
     ]
    },
    {
     "name": "stderr",
     "output_type": "stream",
     "text": [
      " 10%|█         | 401/4000 [01:23<16:19,  3.67it/s]"
     ]
    },
    {
     "name": "stdout",
     "output_type": "stream",
     "text": [
      "Epoch  400 | TrainLoss 0.16008, TrainAcc 59.79% | EvalLoss 0.27009, EvalAcc 87.28%\n"
     ]
    },
    {
     "name": "stderr",
     "output_type": "stream",
     "text": [
      " 13%|█▎        | 501/4000 [01:44<15:07,  3.86it/s]"
     ]
    },
    {
     "name": "stdout",
     "output_type": "stream",
     "text": [
      "Epoch  500 | TrainLoss 0.19846, TrainAcc 64.78% | EvalLoss 0.21031, EvalAcc 89.19%\n"
     ]
    },
    {
     "name": "stderr",
     "output_type": "stream",
     "text": [
      " 15%|█▌        | 602/4000 [02:04<13:42,  4.13it/s]"
     ]
    },
    {
     "name": "stdout",
     "output_type": "stream",
     "text": [
      "Epoch  600 | TrainLoss 0.18434, TrainAcc 70.53% | EvalLoss 0.18660, EvalAcc 90.66%\n"
     ]
    },
    {
     "name": "stderr",
     "output_type": "stream",
     "text": [
      " 18%|█▊        | 701/4000 [02:24<14:58,  3.67it/s]"
     ]
    },
    {
     "name": "stdout",
     "output_type": "stream",
     "text": [
      "Epoch  700 | TrainLoss 0.17255, TrainAcc 65.78% | EvalLoss 0.16157, EvalAcc 90.79%\n"
     ]
    },
    {
     "name": "stderr",
     "output_type": "stream",
     "text": [
      " 20%|██        | 802/4000 [02:45<13:02,  4.09it/s]"
     ]
    },
    {
     "name": "stdout",
     "output_type": "stream",
     "text": [
      "Epoch  800 | TrainLoss 0.18262, TrainAcc 65.30% | EvalLoss 0.23367, EvalAcc 88.47%\n"
     ]
    },
    {
     "name": "stderr",
     "output_type": "stream",
     "text": [
      " 23%|██▎       | 902/4000 [03:06<13:34,  3.80it/s]"
     ]
    },
    {
     "name": "stdout",
     "output_type": "stream",
     "text": [
      "Epoch  900 | TrainLoss 0.15527, TrainAcc 65.09% | EvalLoss 0.16558, EvalAcc 90.65%\n"
     ]
    },
    {
     "name": "stderr",
     "output_type": "stream",
     "text": [
      " 25%|██▌       | 1002/4000 [03:27<11:52,  4.20it/s]"
     ]
    },
    {
     "name": "stdout",
     "output_type": "stream",
     "text": [
      "Epoch 1000 | TrainLoss 0.14502, TrainAcc 65.11% | EvalLoss 0.19278, EvalAcc 89.67%\n"
     ]
    },
    {
     "name": "stderr",
     "output_type": "stream",
     "text": [
      " 28%|██▊       | 1101/4000 [03:47<12:36,  3.83it/s]"
     ]
    },
    {
     "name": "stdout",
     "output_type": "stream",
     "text": [
      "Epoch 1100 | TrainLoss 0.18254, TrainAcc 64.31% | EvalLoss 0.15279, EvalAcc 91.34%\n"
     ]
    },
    {
     "name": "stderr",
     "output_type": "stream",
     "text": [
      " 30%|███       | 1201/4000 [04:08<14:08,  3.30it/s]"
     ]
    },
    {
     "name": "stdout",
     "output_type": "stream",
     "text": [
      "Epoch 1200 | TrainLoss 0.17446, TrainAcc 62.07% | EvalLoss 0.15152, EvalAcc 91.43%\n"
     ]
    },
    {
     "name": "stderr",
     "output_type": "stream",
     "text": [
      " 33%|███▎      | 1301/4000 [04:29<12:10,  3.69it/s]"
     ]
    },
    {
     "name": "stdout",
     "output_type": "stream",
     "text": [
      "Epoch 1300 | TrainLoss 0.12758, TrainAcc 65.31% | EvalLoss 0.15140, EvalAcc 91.96%\n"
     ]
    },
    {
     "name": "stderr",
     "output_type": "stream",
     "text": [
      " 35%|███▌      | 1401/4000 [04:50<11:54,  3.64it/s]"
     ]
    },
    {
     "name": "stdout",
     "output_type": "stream",
     "text": [
      "Epoch 1400 | TrainLoss 0.12932, TrainAcc 68.04% | EvalLoss 0.14177, EvalAcc 91.39%\n"
     ]
    },
    {
     "name": "stderr",
     "output_type": "stream",
     "text": [
      " 38%|███▊      | 1501/4000 [05:11<13:10,  3.16it/s]"
     ]
    },
    {
     "name": "stdout",
     "output_type": "stream",
     "text": [
      "Epoch 1500 | TrainLoss 0.17473, TrainAcc 64.01% | EvalLoss 0.15152, EvalAcc 91.83%\n"
     ]
    },
    {
     "name": "stderr",
     "output_type": "stream",
     "text": [
      " 40%|████      | 1601/4000 [05:32<10:34,  3.78it/s]"
     ]
    },
    {
     "name": "stdout",
     "output_type": "stream",
     "text": [
      "Epoch 1600 | TrainLoss 0.14994, TrainAcc 60.91% | EvalLoss 0.14183, EvalAcc 91.59%\n"
     ]
    },
    {
     "name": "stderr",
     "output_type": "stream",
     "text": [
      " 43%|████▎     | 1701/4000 [05:53<10:27,  3.66it/s]"
     ]
    },
    {
     "name": "stdout",
     "output_type": "stream",
     "text": [
      "Epoch 1700 | TrainLoss 0.10845, TrainAcc 67.54% | EvalLoss 0.13620, EvalAcc 91.38%\n"
     ]
    },
    {
     "name": "stderr",
     "output_type": "stream",
     "text": [
      " 45%|████▌     | 1801/4000 [06:14<11:20,  3.23it/s]"
     ]
    },
    {
     "name": "stdout",
     "output_type": "stream",
     "text": [
      "Epoch 1800 | TrainLoss 0.17013, TrainAcc 64.44% | EvalLoss 0.14552, EvalAcc 91.77%\n"
     ]
    },
    {
     "name": "stderr",
     "output_type": "stream",
     "text": [
      " 48%|████▊     | 1901/4000 [06:35<09:53,  3.54it/s]"
     ]
    },
    {
     "name": "stdout",
     "output_type": "stream",
     "text": [
      "Epoch 1900 | TrainLoss 0.12794, TrainAcc 60.85% | EvalLoss 0.14267, EvalAcc 92.04%\n"
     ]
    },
    {
     "name": "stderr",
     "output_type": "stream",
     "text": [
      " 50%|█████     | 2001/4000 [06:57<09:06,  3.66it/s]"
     ]
    },
    {
     "name": "stdout",
     "output_type": "stream",
     "text": [
      "Epoch 2000 | TrainLoss 0.15597, TrainAcc 67.70% | EvalLoss 0.12643, EvalAcc 91.97%\n"
     ]
    },
    {
     "name": "stderr",
     "output_type": "stream",
     "text": [
      " 53%|█████▎    | 2101/4000 [07:18<09:54,  3.19it/s]"
     ]
    },
    {
     "name": "stdout",
     "output_type": "stream",
     "text": [
      "Epoch 2100 | TrainLoss 0.11556, TrainAcc 66.85% | EvalLoss 0.11554, EvalAcc 92.13%\n"
     ]
    },
    {
     "name": "stderr",
     "output_type": "stream",
     "text": [
      " 55%|█████▌    | 2201/4000 [07:39<08:00,  3.74it/s]"
     ]
    },
    {
     "name": "stdout",
     "output_type": "stream",
     "text": [
      "Epoch 2200 | TrainLoss 0.08669, TrainAcc 72.33% | EvalLoss 0.11541, EvalAcc 92.18%\n"
     ]
    },
    {
     "name": "stderr",
     "output_type": "stream",
     "text": [
      " 58%|█████▊    | 2302/4000 [08:01<07:16,  3.89it/s]"
     ]
    },
    {
     "name": "stdout",
     "output_type": "stream",
     "text": [
      "Epoch 2300 | TrainLoss 0.12047, TrainAcc 66.59% | EvalLoss 0.11444, EvalAcc 92.10%\n"
     ]
    },
    {
     "name": "stderr",
     "output_type": "stream",
     "text": [
      " 60%|██████    | 2402/4000 [08:22<06:45,  3.95it/s]"
     ]
    },
    {
     "name": "stdout",
     "output_type": "stream",
     "text": [
      "Epoch 2400 | TrainLoss 0.14193, TrainAcc 67.44% | EvalLoss 0.11381, EvalAcc 92.12%\n"
     ]
    },
    {
     "name": "stderr",
     "output_type": "stream",
     "text": [
      " 63%|██████▎   | 2502/4000 [08:43<06:09,  4.05it/s]"
     ]
    },
    {
     "name": "stdout",
     "output_type": "stream",
     "text": [
      "Epoch 2500 | TrainLoss 0.10910, TrainAcc 62.92% | EvalLoss 0.11437, EvalAcc 92.17%\n"
     ]
    },
    {
     "name": "stderr",
     "output_type": "stream",
     "text": [
      " 65%|██████▌   | 2601/4000 [09:04<06:16,  3.72it/s]"
     ]
    },
    {
     "name": "stdout",
     "output_type": "stream",
     "text": [
      "Epoch 2600 | TrainLoss 0.19468, TrainAcc 64.31% | EvalLoss 0.11395, EvalAcc 92.14%\n"
     ]
    },
    {
     "name": "stderr",
     "output_type": "stream",
     "text": [
      " 68%|██████▊   | 2701/4000 [09:24<06:06,  3.54it/s]"
     ]
    },
    {
     "name": "stdout",
     "output_type": "stream",
     "text": [
      "Epoch 2700 | TrainLoss 0.14293, TrainAcc 62.67% | EvalLoss 0.11087, EvalAcc 92.22%\n"
     ]
    },
    {
     "name": "stderr",
     "output_type": "stream",
     "text": [
      " 70%|███████   | 2802/4000 [09:45<04:49,  4.14it/s]"
     ]
    },
    {
     "name": "stdout",
     "output_type": "stream",
     "text": [
      "Epoch 2800 | TrainLoss 0.11464, TrainAcc 65.82% | EvalLoss 0.11212, EvalAcc 92.34%\n"
     ]
    },
    {
     "name": "stderr",
     "output_type": "stream",
     "text": [
      " 73%|███████▎  | 2902/4000 [10:06<04:26,  4.12it/s]"
     ]
    },
    {
     "name": "stdout",
     "output_type": "stream",
     "text": [
      "Epoch 2900 | TrainLoss 0.16506, TrainAcc 61.45% | EvalLoss 0.11346, EvalAcc 92.34%\n"
     ]
    },
    {
     "name": "stderr",
     "output_type": "stream",
     "text": [
      " 75%|███████▌  | 3001/4000 [10:26<04:54,  3.39it/s]"
     ]
    },
    {
     "name": "stdout",
     "output_type": "stream",
     "text": [
      "Epoch 3000 | TrainLoss 0.10450, TrainAcc 60.07% | EvalLoss 0.11115, EvalAcc 92.18%\n"
     ]
    },
    {
     "name": "stderr",
     "output_type": "stream",
     "text": [
      " 78%|███████▊  | 3102/4000 [10:47<03:35,  4.17it/s]"
     ]
    },
    {
     "name": "stdout",
     "output_type": "stream",
     "text": [
      "Epoch 3100 | TrainLoss 0.09560, TrainAcc 63.92% | EvalLoss 0.10984, EvalAcc 92.38%\n"
     ]
    },
    {
     "name": "stderr",
     "output_type": "stream",
     "text": [
      " 80%|████████  | 3202/4000 [11:08<03:11,  4.18it/s]"
     ]
    },
    {
     "name": "stdout",
     "output_type": "stream",
     "text": [
      "Epoch 3200 | TrainLoss 0.15401, TrainAcc 64.49% | EvalLoss 0.11049, EvalAcc 92.26%\n"
     ]
    },
    {
     "name": "stderr",
     "output_type": "stream",
     "text": [
      " 83%|████████▎ | 3302/4000 [11:28<02:57,  3.94it/s]"
     ]
    },
    {
     "name": "stdout",
     "output_type": "stream",
     "text": [
      "Epoch 3300 | TrainLoss 0.13353, TrainAcc 65.06% | EvalLoss 0.11015, EvalAcc 92.14%\n"
     ]
    },
    {
     "name": "stderr",
     "output_type": "stream",
     "text": [
      " 85%|████████▌ | 3402/4000 [11:48<02:25,  4.10it/s]"
     ]
    },
    {
     "name": "stdout",
     "output_type": "stream",
     "text": [
      "Epoch 3400 | TrainLoss 0.10989, TrainAcc 66.85% | EvalLoss 0.11180, EvalAcc 92.48%\n"
     ]
    },
    {
     "name": "stderr",
     "output_type": "stream",
     "text": [
      " 88%|████████▊ | 3501/4000 [12:09<02:29,  3.34it/s]"
     ]
    },
    {
     "name": "stdout",
     "output_type": "stream",
     "text": [
      "Epoch 3500 | TrainLoss 0.15086, TrainAcc 66.97% | EvalLoss 0.11135, EvalAcc 92.34%\n"
     ]
    },
    {
     "name": "stderr",
     "output_type": "stream",
     "text": [
      " 90%|█████████ | 3602/4000 [12:29<01:33,  4.26it/s]"
     ]
    },
    {
     "name": "stdout",
     "output_type": "stream",
     "text": [
      "Epoch 3600 | TrainLoss 0.19670, TrainAcc 60.26% | EvalLoss 0.10817, EvalAcc 92.15%\n"
     ]
    },
    {
     "name": "stderr",
     "output_type": "stream",
     "text": [
      " 93%|█████████▎| 3701/4000 [12:49<01:19,  3.74it/s]"
     ]
    },
    {
     "name": "stdout",
     "output_type": "stream",
     "text": [
      "Epoch 3700 | TrainLoss 0.12033, TrainAcc 70.97% | EvalLoss 0.10946, EvalAcc 92.40%\n"
     ]
    },
    {
     "name": "stderr",
     "output_type": "stream",
     "text": [
      " 95%|█████████▌| 3802/4000 [13:10<00:50,  3.95it/s]"
     ]
    },
    {
     "name": "stdout",
     "output_type": "stream",
     "text": [
      "Epoch 3800 | TrainLoss 0.11786, TrainAcc 63.29% | EvalLoss 0.10656, EvalAcc 92.14%\n"
     ]
    },
    {
     "name": "stderr",
     "output_type": "stream",
     "text": [
      " 98%|█████████▊| 3902/4000 [13:31<00:23,  4.21it/s]"
     ]
    },
    {
     "name": "stdout",
     "output_type": "stream",
     "text": [
      "Epoch 3900 | TrainLoss 0.13821, TrainAcc 63.03% | EvalLoss 0.11228, EvalAcc 92.38%\n"
     ]
    },
    {
     "name": "stderr",
     "output_type": "stream",
     "text": [
      "100%|██████████| 4000/4000 [13:51<00:00,  4.81it/s]\n"
     ]
    },
    {
     "data": {
      "text/plain": [
       "<torch._C.Generator at 0x7beb5c09d6f0>"
      ]
     },
     "execution_count": 5,
     "metadata": {},
     "output_type": "execute_result"
    }
   ],
   "source": [
    "torch.manual_seed(666)\n",
    "twobitrnn, train_losses, train_accs, eval_losses, eval_accs = train_rnn(2, n_epochs=4000, batch_size=32)\n",
    "#save_rnn_model(twobitrnn, os.path.join(HOME, 'models', 'twobitrnnthesis.pth'))\n",
    "\n",
    "torch.manual_seed(444)\n",
    "#twobitrnnseed444, _, _, _, _ = train_rnn(2, n_epochs=4000, batch_size=32)\n",
    "#save_rnn_model(twobitrnnseed444, os.path.join(HOME, 'models', 'twobitrnn444thesis.pth'))\n",
    "\n",
    "torch.manual_seed(666)\n",
    "#threebitrnn, _, _, _, _ = train_rnn(3, n_epochs=4000, batch_size=32)\n",
    "#save_rnn_model(threebitrnn, os.path.join(HOME, 'models', 'threebitrnnthesis.pth'))"
   ]
  },
  {
   "cell_type": "code",
   "execution_count": null,
   "id": "vfKIJ_GVluv5",
   "metadata": {
    "colab": {
     "base_uri": "https://localhost:8080/"
    },
    "id": "vfKIJ_GVluv5",
    "outputId": "7c479e15-f721-473b-885f-f29ec660186c"
   },
   "outputs": [
    {
     "name": "stdout",
     "output_type": "stream",
     "text": [
      "Loaded ContinuousRNN (N=100, n_bits=2) from '/content/drive/MyDrive/Thesis/models/twobitrnn.pth'\n"
     ]
    }
   ],
   "source": [
    "torch.manual_seed(333)\n",
    "twobitloaded = load_rnn(os.path.join(HOME, 'models', 'twobitrnn.pth'))\n",
    "twobitallrandom = randomise_rnn(twobitloaded, reinit_input=True, reinit_rec=True, reinit_output=True)\n",
    "save_rnn_model(twobitallrandom, os.path.join(HOME, 'models', 'twobitrnnallrandomthesis.pth'))"
   ]
  },
  {
   "cell_type": "markdown",
   "id": "VNyQprRfgvmn",
   "metadata": {
    "id": "VNyQprRfgvmn"
   },
   "source": [
    "## Plots"
   ]
  },
  {
   "cell_type": "code",
   "execution_count": null,
   "id": "AbJWawmG7Z4y",
   "metadata": {
    "colab": {
     "base_uri": "https://localhost:8080/"
    },
    "id": "AbJWawmG7Z4y",
    "outputId": "99d22ac1-bfb4-475d-8298-d7ec6d503d2f"
   },
   "outputs": [
    {
     "name": "stdout",
     "output_type": "stream",
     "text": [
      "Loaded ContinuousRNN (N=100, n_bits=2) from '/content/drive/MyDrive/Thesis/models/twobitrnnthesis.pth'\n",
      "Evaluation Loss: 0.33166, Sign Acc: 84.80%\n"
     ]
    },
    {
     "data": {
      "text/plain": [
       "(tensor(0.3317), tensor(0.8480))"
      ]
     },
     "execution_count": 13,
     "metadata": {},
     "output_type": "execute_result"
    }
   ],
   "source": [
    "myrnn = load_rnn(os.path.join(HOME, 'models', 'twobitrnnthesis.pth'))\n",
    "eval_rnn_multiple(myrnn)"
   ]
  },
  {
   "cell_type": "markdown",
   "id": "gB61Hr365yTE",
   "metadata": {
    "id": "gB61Hr365yTE"
   },
   "source": [
    "## Load Models"
   ]
  },
  {
   "cell_type": "code",
   "execution_count": null,
   "id": "5zkE_YXq5xFc",
   "metadata": {
    "colab": {
     "base_uri": "https://localhost:8080/"
    },
    "id": "5zkE_YXq5xFc",
    "outputId": "0ef9a619-7555-407e-f0df-aa53437c4122"
   },
   "outputs": [
    {
     "name": "stdout",
     "output_type": "stream",
     "text": [
      "Loaded ContinuousRNN (N=100, n_bits=3) from '/content/don_thesis/models/threebitrnn.pth'\n",
      "Loaded ContinuousRNN (N=100, n_bits=2) from '/content/don_thesis/models/twobitrnn.pth'\n",
      "Loaded ContinuousRNN (N=100, n_bits=2) from '/content/don_thesis/models/twobitrnnseed444.pth'\n",
      "Loaded ContinuousRNN (N=100, n_bits=2) from '/content/don_thesis/models/twobit1000.pth'\n",
      "Loaded ContinuousRNN (N=100, n_bits=2) from '/content/don_thesis/models/twobit1000seed66.pth'\n",
      "Loaded ContinuousRNN (N=100, n_bits=2) from '/content/don_thesis/models/twobit2500.pth'\n",
      "Loaded ContinuousRNN (N=100, n_bits=2) from '/content/don_thesis/models/twobitallrandom.pth'\n"
     ]
    }
   ],
   "source": [
    "import os\n",
    "\n",
    "home = os.environ['ROOT_PATH']\n",
    "\n",
    "threebitrnn = load_rnn(os.path.join(home, 'models', 'threebitrnn.pth'))\n",
    "twobitrnn = load_rnn(os.path.join(home, 'models', 'twobitrnn.pth'))\n",
    "twobitrnnseed444 = load_rnn(os.path.join(home, 'models', 'twobitrnnseed444.pth'))\n",
    "twobit1000 = load_rnn(os.path.join(home, 'models', 'twobit1000.pth'))\n",
    "twobit1000seed66 = load_rnn(os.path.join(home, 'models', 'twobit1000seed66.pth'))\n",
    "twobit2500 = load_rnn(os.path.join(home, 'models', 'twobit2500.pth'))\n",
    "\n",
    "#twobitallrandom = randomise_rnn(twobitrnn, reinit_input=True, reinit_rec=True, reinit_output=True)\n",
    "twobitallrandom = load_rnn(os.path.join(home, 'models', 'twobitallrandom.pth'))\n",
    "#twobitrecrandom = randomise_rnn(twobitrnn, reinit_rec=True)\n",
    "#threebitallrandom = randomise_rnn(threebitrnn, reinit_input=True, reinit_rec=True, reinit_output=True)\n",
    "\n",
    "eval_input_2bit = torch.load(os.path.join(home, 'models',\"input2bit\"))\n",
    "eval_input_3bit = torch.load(os.path.join(home, 'models',\"input3bit\"))\n",
    "\n",
    "eval_input_2bit_5000 = torch.load(os.path.join(home, 'models',\"input2bit5000\"))\n",
    "eval_input_3bit_5000 = torch.load(os.path.join(home, 'models',\"input3bit5000\"))\n",
    "\n",
    "random_tensor = torch.load(os.path.join(home, 'models',\"random_tensor.pth\"))\n",
    "\n",
    "noise1 = torch.load(os.path.join(home, 'models',\"noise1.pth\"))\n",
    "noise2 = torch.load(os.path.join(home, 'models',\"noise2.pth\"))\n",
    "\n",
    "s4d_traj=  torch.from_numpy(np.load(os.path.join(home, 'models',\"latent_trajectories.npy\"))).transpose(-1, -2)"
   ]
  }
 ],
 "metadata": {
  "colab": {
   "machine_shape": "hm",
   "provenance": []
  },
  "kernelspec": {
   "display_name": "Python 3",
   "name": "python3"
  },
  "language_info": {
   "codemirror_mode": {
    "name": "ipython",
    "version": 3
   },
   "file_extension": ".py",
   "mimetype": "text/x-python",
   "name": "python",
   "nbconvert_exporter": "python",
   "pygments_lexer": "ipython3",
   "version": "3.10.12"
  }
 },
 "nbformat": 4,
 "nbformat_minor": 5
}
